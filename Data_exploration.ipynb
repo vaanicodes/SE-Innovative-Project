{
  "nbformat": 4,
  "nbformat_minor": 0,
  "metadata": {
    "colab": {
      "name": "Data exploration",
      "provenance": [],
      "collapsed_sections": [],
      "include_colab_link": true
    },
    "kernelspec": {
      "name": "python3",
      "display_name": "Python 3"
    },
    "accelerator": "GPU"
  },
  "cells": [
    {
      "cell_type": "markdown",
      "metadata": {
        "id": "view-in-github",
        "colab_type": "text"
      },
      "source": [
        "<a href=\"https://colab.research.google.com/github/vaanicodes/SE-Innovative-Project/blob/main/Data_exploration.ipynb\" target=\"_parent\"><img src=\"https://colab.research.google.com/assets/colab-badge.svg\" alt=\"Open In Colab\"/></a>"
      ]
    },
    {
      "cell_type": "markdown",
      "metadata": {
        "id": "S0AtRjfdB4iR"
      },
      "source": [
        "# Data exploration\n",
        "\n",
        "The dataset used for this project is the one published in the \"[Challenges in Representation Learning: Facial Expression Recognition Challenge](https://www.kaggle.com/c/challenges-in-representation-learning-facial-expression-recognition-challenge/data)\" by Kaggle.\n",
        "\n",
        "> **\"Challenges in Representation Learning: A report on three machine learning contests.\"** I. Goodfellow, D. Erhan, P. L. Carrier, A. Courville, M. Mirza, B. Hamner, W. Cukierski, Y. Tang, D. H. Lee, Y. Zhou, C. Ramaiah, F. Feng, R. Li, X. Wang, D. Athanasakis, J. Shawe-Taylor, M. Milakov, J. Park, R. Ionescu, M. Popescu, C. Grozea, J. Bergstra, J. Xie, L. Romaszko, B. Xu, Z. Chuang, and Y. Bengio. arXiv 2013.\n",
        "\n",
        "### Data description (as detailed by Kaggle)\n",
        "\n",
        "The data consists of 48x48 pixel grayscale images of faces. The faces have been automatically registered so that the face is more or less centered and occupies about the same amount of space in each image. The task is to categorize each face based on the emotion shown in the facial expression in to one of seven categories (0=Angry, 1=Disgust, 2=Fear, 3=Happy, 4=Sad, 5=Surprise, 6=Neutral).\n",
        "\n",
        "The csv file contains two main columns, \"emotion\" and \"pixels\". The \"emotion\" column contains a numeric code ranging from 0 to 6, inclusive, for the emotion that is present in the image. The \"pixels\" column contains a string surrounded in quotes for each image. The contents of this string a space-separated pixel values in row major order. test.csv contains only the \"pixels\" column and your task is to predict the emotion column.\n",
        "\n",
        "This dataset was prepared by Pierre-Luc Carrier and Aaron Courville, as part of an ongoing research project. They have graciously provided the workshop organizers with a preliminary version of their dataset to use for this contest."
      ]
    },
    {
      "cell_type": "markdown",
      "metadata": {
        "id": "XdDSrzbqEKdU"
      },
      "source": [
        "## Getting the data \n",
        "\n",
        "We can directly download the dataset from Kaggle using the Kaggle API:"
      ]
    },
    {
      "cell_type": "code",
      "metadata": {
        "id": "IxuoIexY_6KP"
      },
      "source": [
        "# Update Kaggle API:\n",
        "!pip install --upgrade -q kaggle\n",
        "\n",
        "# Create a new folder for Kaggle config file:\n",
        "!mkdir /root/.kaggle"
      ],
      "execution_count": null,
      "outputs": []
    },
    {
      "cell_type": "code",
      "metadata": {
        "id": "qUxa6qH_BNGS"
      },
      "source": [
        "import json\n",
        "\n",
        "token = {\n",
        "    \"username\": \"vaanirawat\",\n",
        "    \"key\": \"xxxxxxxxxxxxxxxxxxxxxxxxxxxxxxxx\"\n",
        "}\n",
        "\n",
        "with open('/root/.kaggle/kaggle.json', 'w') as config_file:\n",
        "    json.dump(token, config_file)"
      ],
      "execution_count": null,
      "outputs": []
    },
    {
      "cell_type": "code",
      "metadata": {
        "id": "hCF2dJ4JBc3A"
      },
      "source": [
        "# Provide access to Kaggle config file:\n",
        "!chmod 600 /root/.kaggle/kaggle.json"
      ],
      "execution_count": null,
      "outputs": []
    },
    {
      "cell_type": "code",
      "metadata": {
        "id": "5fhv3Wno_s6m",
        "colab": {
          "base_uri": "https://localhost:8080/",
          "height": 136
        },
        "outputId": "2d9cabd8-f717-4bc3-ea5c-fb3a0767a03e"
      },
      "source": [
        "!kaggle competitions download -c challenges-in-representation-learning-facial-expression-recognition-challenge"
      ],
      "execution_count": null,
      "outputs": [
        {
          "output_type": "stream",
          "text": [
            "Warning: Looks like you're using an outdated API Version, please consider updating (server 1.5.6 / client 1.5.4)\n",
            "Downloading example_submission.csv to /content\n",
            "  0% 0.00/7.01k [00:00<?, ?B/s]\n",
            "100% 7.01k/7.01k [00:00<00:00, 2.68MB/s]\n",
            "Downloading fer2013.tar.gz to /content\n",
            " 96% 88.0M/92.0M [00:01<00:00, 39.6MB/s]\n",
            "100% 92.0M/92.0M [00:01<00:00, 68.0MB/s]\n"
          ],
          "name": "stdout"
        }
      ]
    },
    {
      "cell_type": "markdown",
      "metadata": {
        "id": "41Bm8x--g5tH"
      },
      "source": [
        "We can now proceed to extract our dataset from the compressed file."
      ]
    },
    {
      "cell_type": "code",
      "metadata": {
        "id": "i-voYLlLhA2e",
        "colab": {
          "base_uri": "https://localhost:8080/",
          "height": 85
        },
        "outputId": "e80a1808-acb2-4b55-eeda-911fe16a4182"
      },
      "source": [
        "!tar -xvf \"fer2013.tar.gz\""
      ],
      "execution_count": null,
      "outputs": [
        {
          "output_type": "stream",
          "text": [
            "fer2013/fer2013.csv\n",
            "fer2013/README\n",
            "fer2013/fer2013.bib\n",
            "fer2013/\n"
          ],
          "name": "stdout"
        }
      ]
    },
    {
      "cell_type": "markdown",
      "metadata": {
        "id": "JjIDqmddhr90"
      },
      "source": [
        "Once the files are extracted, we can proceed to explore the dataset."
      ]
    },
    {
      "cell_type": "markdown",
      "metadata": {
        "id": "B6rS46vyhzLp"
      },
      "source": [
        "## Exploring the dataset\n",
        "\n",
        "We are going to use the Pandas Python library in order to explore a bit the structure of the dataset and its contents.\n",
        "\n",
        "\n",
        "First of all we load our dataset and print the head of it."
      ]
    },
    {
      "cell_type": "code",
      "metadata": {
        "id": "N77xSmIS7SwS",
        "colab": {
          "base_uri": "https://localhost:8080/",
          "height": 204
        },
        "outputId": "1e1f4607-d852-4e2c-cc8c-0842a49ec99d"
      },
      "source": [
        "import pandas as pd\n",
        "\n",
        "df = pd.read_csv('fer2013/fer2013.csv')\n",
        "df.head()"
      ],
      "execution_count": null,
      "outputs": [
        {
          "output_type": "execute_result",
          "data": {
            "text/html": [
              "<div>\n",
              "<style scoped>\n",
              "    .dataframe tbody tr th:only-of-type {\n",
              "        vertical-align: middle;\n",
              "    }\n",
              "\n",
              "    .dataframe tbody tr th {\n",
              "        vertical-align: top;\n",
              "    }\n",
              "\n",
              "    .dataframe thead th {\n",
              "        text-align: right;\n",
              "    }\n",
              "</style>\n",
              "<table border=\"1\" class=\"dataframe\">\n",
              "  <thead>\n",
              "    <tr style=\"text-align: right;\">\n",
              "      <th></th>\n",
              "      <th>emotion</th>\n",
              "      <th>pixels</th>\n",
              "      <th>Usage</th>\n",
              "    </tr>\n",
              "  </thead>\n",
              "  <tbody>\n",
              "    <tr>\n",
              "      <th>0</th>\n",
              "      <td>0</td>\n",
              "      <td>70 80 82 72 58 58 60 63 54 58 60 48 89 115 121...</td>\n",
              "      <td>Training</td>\n",
              "    </tr>\n",
              "    <tr>\n",
              "      <th>1</th>\n",
              "      <td>0</td>\n",
              "      <td>151 150 147 155 148 133 111 140 170 174 182 15...</td>\n",
              "      <td>Training</td>\n",
              "    </tr>\n",
              "    <tr>\n",
              "      <th>2</th>\n",
              "      <td>2</td>\n",
              "      <td>231 212 156 164 174 138 161 173 182 200 106 38...</td>\n",
              "      <td>Training</td>\n",
              "    </tr>\n",
              "    <tr>\n",
              "      <th>3</th>\n",
              "      <td>4</td>\n",
              "      <td>24 32 36 30 32 23 19 20 30 41 21 22 32 34 21 1...</td>\n",
              "      <td>Training</td>\n",
              "    </tr>\n",
              "    <tr>\n",
              "      <th>4</th>\n",
              "      <td>6</td>\n",
              "      <td>4 0 0 0 0 0 0 0 0 0 0 0 3 15 23 28 48 50 58 84...</td>\n",
              "      <td>Training</td>\n",
              "    </tr>\n",
              "  </tbody>\n",
              "</table>\n",
              "</div>"
            ],
            "text/plain": [
              "   emotion                                             pixels     Usage\n",
              "0        0  70 80 82 72 58 58 60 63 54 58 60 48 89 115 121...  Training\n",
              "1        0  151 150 147 155 148 133 111 140 170 174 182 15...  Training\n",
              "2        2  231 212 156 164 174 138 161 173 182 200 106 38...  Training\n",
              "3        4  24 32 36 30 32 23 19 20 30 41 21 22 32 34 21 1...  Training\n",
              "4        6  4 0 0 0 0 0 0 0 0 0 0 0 3 15 23 28 48 50 58 84...  Training"
            ]
          },
          "metadata": {
            "tags": []
          },
          "execution_count": 6
        }
      ]
    },
    {
      "cell_type": "markdown",
      "metadata": {
        "id": "bPxaTMNIEhzO"
      },
      "source": [
        "We can also get a general description of the dataset:"
      ]
    },
    {
      "cell_type": "code",
      "metadata": {
        "id": "OGV_pr5eDp6M",
        "colab": {
          "base_uri": "https://localhost:8080/",
          "height": 297
        },
        "outputId": "d3a689cd-d3b7-44e3-bb2f-66e383690bd0"
      },
      "source": [
        "df.describe()"
      ],
      "execution_count": null,
      "outputs": [
        {
          "output_type": "execute_result",
          "data": {
            "text/html": [
              "<div>\n",
              "<style scoped>\n",
              "    .dataframe tbody tr th:only-of-type {\n",
              "        vertical-align: middle;\n",
              "    }\n",
              "\n",
              "    .dataframe tbody tr th {\n",
              "        vertical-align: top;\n",
              "    }\n",
              "\n",
              "    .dataframe thead th {\n",
              "        text-align: right;\n",
              "    }\n",
              "</style>\n",
              "<table border=\"1\" class=\"dataframe\">\n",
              "  <thead>\n",
              "    <tr style=\"text-align: right;\">\n",
              "      <th></th>\n",
              "      <th>emotion</th>\n",
              "    </tr>\n",
              "  </thead>\n",
              "  <tbody>\n",
              "    <tr>\n",
              "      <th>count</th>\n",
              "      <td>35887.000000</td>\n",
              "    </tr>\n",
              "    <tr>\n",
              "      <th>mean</th>\n",
              "      <td>3.323265</td>\n",
              "    </tr>\n",
              "    <tr>\n",
              "      <th>std</th>\n",
              "      <td>1.873819</td>\n",
              "    </tr>\n",
              "    <tr>\n",
              "      <th>min</th>\n",
              "      <td>0.000000</td>\n",
              "    </tr>\n",
              "    <tr>\n",
              "      <th>25%</th>\n",
              "      <td>2.000000</td>\n",
              "    </tr>\n",
              "    <tr>\n",
              "      <th>50%</th>\n",
              "      <td>3.000000</td>\n",
              "    </tr>\n",
              "    <tr>\n",
              "      <th>75%</th>\n",
              "      <td>5.000000</td>\n",
              "    </tr>\n",
              "    <tr>\n",
              "      <th>max</th>\n",
              "      <td>6.000000</td>\n",
              "    </tr>\n",
              "  </tbody>\n",
              "</table>\n",
              "</div>"
            ],
            "text/plain": [
              "            emotion\n",
              "count  35887.000000\n",
              "mean       3.323265\n",
              "std        1.873819\n",
              "min        0.000000\n",
              "25%        2.000000\n",
              "50%        3.000000\n",
              "75%        5.000000\n",
              "max        6.000000"
            ]
          },
          "metadata": {
            "tags": []
          },
          "execution_count": 7
        }
      ]
    },
    {
      "cell_type": "markdown",
      "metadata": {
        "id": "FSK8Ki2CEXum"
      },
      "source": [
        "An interesting thing that happens is that this dataset has images used for three different purposes:\n",
        "\n",
        "- Training\n",
        "- Private testing\n",
        "- Public testing"
      ]
    },
    {
      "cell_type": "code",
      "metadata": {
        "id": "06vGbVWxEBBx",
        "colab": {
          "base_uri": "https://localhost:8080/",
          "height": 85
        },
        "outputId": "c51d42dc-cb2e-4899-e0ef-11d0aa65e41a"
      },
      "source": [
        "df['Usage'].value_counts()"
      ],
      "execution_count": null,
      "outputs": [
        {
          "output_type": "execute_result",
          "data": {
            "text/plain": [
              "Training       28709\n",
              "PrivateTest     3589\n",
              "PublicTest      3589\n",
              "Name: Usage, dtype: int64"
            ]
          },
          "metadata": {
            "tags": []
          },
          "execution_count": 8
        }
      ]
    },
    {
      "cell_type": "markdown",
      "metadata": {
        "id": "5Eu4aWgcEwKy"
      },
      "source": [
        "We need to access the data information from the dataframe so we can iterate later for each element."
      ]
    },
    {
      "cell_type": "code",
      "metadata": {
        "id": "sXm3kpAJFIn2",
        "colab": {
          "base_uri": "https://localhost:8080/",
          "height": 54
        },
        "outputId": "1ecaa795-0627-47de-dc09-35e898b5ba5c"
      },
      "source": [
        "# Set image index:\n",
        "img_index = 2\n",
        "ith_face = df[['pixels']].iloc[img_index]\n",
        "ith_face = ith_face.values[0]\n",
        "ith_face"
      ],
      "execution_count": null,
      "outputs": [
        {
          "output_type": "execute_result",
          "data": {
            "text/plain": [
              "'231 212 156 164 174 138 161 173 182 200 106 38 39 74 138 161 164 179 190 201 210 216 220 224 222 218 216 213 217 220 220 218 217 212 174 160 162 160 139 135 137 131 94 56 36 44 27 16 229 175 148 173 154 151 171 172 183 101 23 25 67 127 164 170 171 182 199 212 219 220 224 226 226 226 226 226 227 227 228 225 221 217 202 174 158 155 145 126 126 129 99 70 37 27 35 27 214 156 157 168 153 172 168 175 100 16 8 47 117 169 175 175 183 194 204 214 218 223 225 227 228 226 229 231 232 232 229 227 225 224 217 198 174 154 134 110 97 115 96 69 52 28 22 28 202 153 166 156 164 166 170 116 26 2 21 90 165 180 180 181 192 206 210 213 216 220 224 224 226 224 228 227 227 228 231 229 225 228 226 218 196 168 148 111 80 89 97 56 50 38 26 23 190 163 167 156 168 172 136 36 0 24 69 146 180 179 183 196 204 211 214 215 214 217 218 217 220 223 220 220 222 224 227 229 228 228 228 227 216 187 156 125 92 62 83 61 44 46 31 31 181 173 156 167 176 159 61 0 8 62 121 175 185 188 197 210 215 222 225 221 216 214 214 214 213 214 214 214 216 218 218 220 220 225 226 220 216 205 175 133 98 68 61 70 47 41 36 36 183 169 159 174 181 97 6 1 27 98 158 180 192 205 212 221 222 224 229 227 223 217 215 214 211 211 211 209 212 213 212 210 210 215 214 215 212 208 191 140 100 70 57 73 55 37 35 33 183 160 171 185 138 21 0 0 48 140 179 191 210 224 229 231 228 226 231 231 230 222 218 214 212 208 209 210 209 207 208 206 207 209 208 206 208 203 195 166 106 66 55 65 51 53 26 36 172 164 175 174 58 0 1 0 85 172 184 210 237 243 244 237 235 229 225 232 236 226 218 216 213 212 209 207 211 209 209 208 209 208 206 205 205 200 192 178 121 65 50 54 37 42 55 35 171 166 178 124 9 2 0 21 138 184 189 203 214 210 223 241 240 231 218 225 231 226 226 220 217 217 218 214 214 216 219 215 215 216 210 206 201 195 192 181 148 79 45 45 46 31 42 66 171 168 176 52 0 4 0 73 175 186 201 198 191 167 146 181 223 235 220 219 223 219 223 222 222 222 221 222 219 223 224 223 225 223 215 209 203 197 191 183 170 104 45 38 53 40 26 50 166 179 138 45 13 5 23 142 185 175 178 166 165 151 108 103 131 192 224 220 212 217 216 213 224 222 222 224 222 226 226 227 225 220 212 209 205 200 194 188 179 132 53 22 48 49 31 29 175 177 104 59 37 15 72 182 181 158 113 102 140 130 100 79 69 95 167 205 203 204 204 210 219 217 218 224 225 229 230 226 221 215 209 209 206 199 194 191 184 150 73 21 23 55 39 31 185 148 99 62 53 31 116 194 190 164 111 75 98 124 112 75 56 53 87 144 178 181 194 205 211 208 216 221 221 223 222 213 203 207 208 209 208 204 198 195 181 157 88 28 14 35 60 40 164 140 104 70 53 35 149 210 213 202 132 37 61 127 160 143 89 57 66 95 126 152 186 211 215 202 201 207 210 205 206 206 205 215 218 213 210 205 204 196 186 160 97 31 19 10 46 70 155 142 103 71 38 46 184 231 235 230 193 105 57 43 52 92 118 93 70 81 92 133 182 210 212 196 177 186 193 204 208 219 223 223 225 222 218 212 203 196 185 161 109 37 15 24 9 61 156 140 105 69 34 62 217 244 245 239 226 184 95 82 20 2 58 101 83 77 84 143 202 210 203 185 150 146 143 147 152 155 165 154 155 174 181 199 210 197 180 165 124 43 16 27 20 11 153 137 114 69 32 82 238 247 249 245 233 219 146 99 110 104 126 121 67 101 109 175 224 220 208 192 146 98 79 64 52 49 60 63 75 102 126 151 174 187 181 164 137 49 12 21 34 13 146 134 119 68 27 98 248 245 250 249 245 238 214 148 108 130 155 171 171 164 165 212 239 226 215 196 132 76 60 51 47 50 59 80 108 121 141 156 163 153 170 171 140 49 3 20 30 25 140 137 104 65 22 96 251 243 249 251 247 243 240 228 199 178 180 186 190 189 205 244 246 231 214 187 137 104 66 50 55 74 113 118 124 151 145 147 165 163 155 170 137 42 0 19 26 31 151 113 80 71 12 91 245 238 244 248 247 242 239 234 229 222 214 216 218 222 239 249 242 232 211 191 179 166 91 32 35 19 63 119 104 95 129 117 122 156 166 163 137 43 0 17 24 33 129 78 81 60 6 83 234 228 236 238 243 244 245 244 242 241 243 245 245 244 247 245 238 216 202 200 202 185 161 114 66 18 0 12 51 48 57 107 106 142 162 166 148 46 0 12 19 27 113 81 77 48 11 66 226 221 234 239 242 245 247 249 248 250 252 253 247 248 248 243 232 203 202 207 213 207 190 157 131 114 73 63 52 20 17 59 126 143 166 177 158 47 0 5 14 16 112 89 72 48 2 70 222 213 226 235 241 243 244 245 246 247 247 245 246 250 248 242 227 202 202 208 215 219 207 194 152 110 88 79 66 74 102 117 147 171 187 187 161 46 0 1 10 11 109 84 71 31 0 98 224 203 215 228 235 237 241 238 237 234 220 236 251 254 246 244 222 202 202 206 215 223 218 211 209 185 150 143 151 172 195 198 196 200 199 190 159 42 0 0 6 16 93 78 78 27 3 131 224 203 211 220 228 231 233 238 234 206 217 250 253 251 247 242 217 200 196 202 211 224 227 218 213 223 223 217 212 207 207 209 208 206 202 190 152 37 0 2 1 19 88 104 85 28 11 156 219 204 218 229 239 245 249 250 248 232 241 249 252 248 244 241 213 193 191 194 208 219 226 229 223 220 224 224 220 215 213 213 210 208 201 184 135 26 1 3 0 14 107 132 71 41 57 182 233 234 246 252 253 251 248 246 242 233 222 236 241 244 249 232 204 202 192 184 204 216 222 228 227 224 224 225 220 217 217 214 211 205 195 171 95 19 4 4 0 6 145 148 168 225 247 248 250 250 244 241 246 246 244 239 229 216 204 167 180 216 221 215 200 210 200 185 201 212 220 225 225 224 219 217 218 215 214 211 207 200 184 133 59 21 3 4 0 4 165 227 255 255 249 238 231 232 235 236 244 239 229 209 191 199 197 136 122 154 147 153 181 197 193 191 196 210 217 219 221 218 213 209 210 211 209 207 196 189 155 83 33 18 11 0 0 4 232 255 252 251 249 244 241 239 235 235 220 196 182 172 180 156 166 174 94 102 101 66 86 140 191 207 196 205 214 213 213 211 208 205 202 201 200 191 180 164 113 71 73 46 1 0 1 2 255 254 255 254 255 255 255 250 236 227 219 203 181 175 127 142 171 201 111 80 130 144 125 159 217 221 202 201 208 207 206 202 197 195 190 189 183 174 158 129 100 95 93 28 0 3 0 5 254 255 255 255 255 251 252 245 223 213 225 233 236 230 209 197 195 198 166 139 186 197 209 217 223 225 212 202 203 199 196 191 183 180 177 170 163 153 132 121 117 123 82 8 1 2 0 14 255 255 255 255 252 247 245 234 216 218 220 219 222 227 234 235 228 218 185 193 206 206 214 217 220 224 214 204 201 195 187 179 174 166 158 149 145 132 137 132 143 124 38 0 5 0 0 29 255 255 255 254 251 248 243 230 220 219 218 216 223 224 224 226 224 227 211 204 227 223 214 212 215 218 211 204 198 191 180 169 163 153 142 139 133 140 139 49 58 25 0 4 8 0 5 45 255 255 254 250 245 243 240 238 234 230 224 209 205 206 205 208 210 216 214 120 146 211 220 213 210 208 207 200 190 184 172 160 150 140 136 138 140 156 93 0 0 0 3 12 14 1 10 53 255 254 250 249 247 244 244 246 249 250 244 227 217 212 205 197 177 184 205 103 37 91 154 202 209 200 197 192 184 175 161 149 143 142 143 149 151 145 38 2 9 3 16 23 27 2 11 65 253 249 248 248 248 245 245 249 250 251 251 230 223 232 231 233 227 216 215 149 48 20 35 90 155 184 187 180 180 169 156 151 153 155 153 155 156 104 14 10 9 15 33 36 44 2 18 76 247 247 250 250 249 249 253 252 250 252 244 224 218 225 224 226 228 228 231 230 187 153 110 81 94 139 170 177 173 169 160 164 165 163 161 155 145 48 14 23 22 27 43 46 60 11 28 87 247 252 251 252 254 253 251 250 250 246 236 225 216 217 224 226 230 226 218 217 174 161 185 186 179 160 160 175 178 173 168 169 171 167 158 151 96 19 22 46 44 43 64 54 75 25 38 97 252 252 252 254 252 247 245 247 247 248 249 246 243 221 200 193 189 189 198 205 170 154 168 173 178 174 165 167 168 163 165 170 171 163 150 120 51 25 41 66 58 63 77 55 76 45 53 106 253 252 252 246 242 240 243 244 245 246 249 248 250 243 229 229 231 233 234 237 232 204 170 175 175 174 165 154 152 157 165 167 163 142 120 96 45 31 47 70 68 77 94 63 64 70 66 111 252 248 241 236 238 242 246 248 250 250 249 247 247 240 228 230 234 237 234 233 241 239 187 158 163 161 155 146 151 161 166 157 131 117 116 98 40 44 62 79 70 113 112 74 46 81 82 117 246 237 235 240 246 249 252 254 253 251 249 249 249 235 215 219 224 222 222 219 220 224 188 154 157 153 151 154 163 161 142 117 118 133 125 98 45 55 73 83 87 143 113 73 49 70 110 131 241 238 244 248 251 253 253 252 251 248 240 233 226 217 210 219 219 215 216 216 210 200 173 164 159 153 156 160 148 122 101 119 149 134 126 96 48 52 75 103 119 157 107 73 61 53 114 137 241 245 250 252 253 253 250 246 242 237 229 221 213 206 210 203 186 172 145 130 152 161 167 166 152 143 132 114 95 94 121 148 144 129 134 95 46 49 97 114 147 151 104 82 72 57 101 146 246 250 252 252 250 247 242 238 232 227 220 212 204 199 179 173 167 105 65 63 90 134 161 134 112 92 78 81 99 124 147 151 133 134 134 84 42 73 112 122 155 131 105 96 88 78 105 162 250 251 250 248 244 240 237 230 225 220 215 207 199 167 108 151 122 88 71 84 120 127 105 76 71 78 90 106 123 146 155 148 130 141 119 69 54 89 104 138 152 122 114 101 97 88 110 152'"
            ]
          },
          "metadata": {
            "tags": []
          },
          "execution_count": 9
        }
      ]
    },
    {
      "cell_type": "markdown",
      "metadata": {
        "id": "LrPfZkzTFobI"
      },
      "source": [
        "If we want to load a specific picture, we are going to convert the data string into a Numpy array in order to plot it using matplotlib."
      ]
    },
    {
      "cell_type": "code",
      "metadata": {
        "id": "esqSXRfqEThK",
        "colab": {
          "base_uri": "https://localhost:8080/",
          "height": 136
        },
        "outputId": "b1afe456-a474-488b-c481-3b10e4727a19"
      },
      "source": [
        "import numpy as np\n",
        "\n",
        "data = np.fromstring(ith_face, dtype=int, sep=' ')\n",
        "data = np.reshape(data, (48, 48))\n",
        "data"
      ],
      "execution_count": null,
      "outputs": [
        {
          "output_type": "execute_result",
          "data": {
            "text/plain": [
              "array([[231, 212, 156, ...,  44,  27,  16],\n",
              "       [229, 175, 148, ...,  27,  35,  27],\n",
              "       [214, 156, 157, ...,  28,  22,  28],\n",
              "       ...,\n",
              "       [241, 245, 250, ...,  57, 101, 146],\n",
              "       [246, 250, 252, ...,  78, 105, 162],\n",
              "       [250, 251, 250, ...,  88, 110, 152]])"
            ]
          },
          "metadata": {
            "tags": []
          },
          "execution_count": 10
        }
      ]
    },
    {
      "cell_type": "markdown",
      "metadata": {
        "id": "oMTw5RMFFxL0"
      },
      "source": [
        "Now we are able to plot the loaded image:"
      ]
    },
    {
      "cell_type": "code",
      "metadata": {
        "id": "_vHRxbIEFqHc",
        "colab": {
          "base_uri": "https://localhost:8080/",
          "height": 265
        },
        "outputId": "73c4c944-9704-4174-f9f2-703d39d07e57"
      },
      "source": [
        "import matplotlib.pyplot as plt\n",
        "plt.style.use('ggplot')\n",
        "\n",
        "plt.imshow(data, cmap='gray')\n",
        "plt.axis('off')"
      ],
      "execution_count": null,
      "outputs": [
        {
          "output_type": "execute_result",
          "data": {
            "text/plain": [
              "(-0.5, 47.5, 47.5, -0.5)"
            ]
          },
          "metadata": {
            "tags": []
          },
          "execution_count": 11
        },
        {
          "output_type": "display_data",
          "data": {
            "image/png": "[encoded data removed]",
            "text/plain": [
              "<Figure size 432x288 with 1 Axes>"
            ]
          },
          "metadata": {
            "tags": []
          }
        }
      ]
    },
    {
      "cell_type": "markdown",
      "metadata": {
        "id": "dINOwlvuGMCJ"
      },
      "source": [
        "## Packing functionality\n",
        "\n",
        "Now that we have explored a bit the dataset and we are able to load a single image, we proceed to create functions that will allow us to load the full dataset as numpy arrays in order to feed a neural network."
      ]
    },
    {
      "cell_type": "code",
      "metadata": {
        "id": "HXdGZrDGF5As"
      },
      "source": [
        "def load_dataset():\n",
        "    \"\"\"Utility function to load the FER2013 dataset.\n",
        "    \n",
        "    It returns the formated tuples (X_train, y_train) , (X_test, y_test).\n",
        "    \"\"\"\n",
        "\n",
        "    # Load and filter in Training/not Training data:\n",
        "    df = pd.read_csv('fer2013/fer2013.csv')\n",
        "    training = df.loc[df['Usage'] == 'Training']\n",
        "    testing = df.loc[df['Usage'] != 'Training']\n",
        "\n",
        "    # X_train values:\n",
        "    X_train = training[['pixels']].values\n",
        "    X_train = [np.fromstring(item[0], dtype=int, sep=' ') for item in X_train]\n",
        "    X_train = [item.reshape((48, 48)) for item in X_train]\n",
        "    X_train = np.array(X_train)\n",
        "\n",
        "    # X_test values:\n",
        "    X_test = testing[['pixels']].values\n",
        "    X_test = [np.fromstring(item[0], dtype=int, sep=' ') for item in X_test]\n",
        "    X_test = [item.reshape((48, 48)) for item in X_test]\n",
        "    X_test = np.array(X_test)\n",
        "\n",
        "    # y_train, y_test values:\n",
        "    y_train = training[['emotion']].values\n",
        "    y_test = testing[['emotion']].values\n",
        "\n",
        "    return (X_train, y_train) , (X_test, y_test)"
      ],
      "execution_count": null,
      "outputs": []
    },
    {
      "cell_type": "markdown",
      "metadata": {
        "id": "Gd29yp97Mtjt"
      },
      "source": [
        "We can now directly load the complete dataset splitted into training and testing data."
      ]
    },
    {
      "cell_type": "code",
      "metadata": {
        "id": "ghS30oO6JU9o"
      },
      "source": [
        "(X_train, y_train) , (X_test, y_test) = load_dataset()"
      ],
      "execution_count": null,
      "outputs": []
    },
    {
      "cell_type": "markdown",
      "metadata": {
        "id": "nRj9fRLpMzAl"
      },
      "source": [
        "This dataset loading is consistent so we can use images directly:"
      ]
    },
    {
      "cell_type": "code",
      "metadata": {
        "id": "4pKFjH_YJXsk",
        "colab": {
          "base_uri": "https://localhost:8080/",
          "height": 265
        },
        "outputId": "dcde4f14-ba39-4a48-b763-08ccca3e171d"
      },
      "source": [
        "plt.imshow(X_train[2], cmap='gray')\n",
        "plt.axis('off')"
      ],
      "execution_count": null,
      "outputs": [
        {
          "output_type": "execute_result",
          "data": {
            "text/plain": [
              "(-0.5, 47.5, 47.5, -0.5)"
            ]
          },
          "metadata": {
            "tags": []
          },
          "execution_count": 14
        },
        {
          "output_type": "display_data",
          "data": {
            "image/png": "[encoded data removed]",
            "text/plain": [
              "<Figure size 432x288 with 1 Axes>"
            ]
          },
          "metadata": {
            "tags": []
          }
        }
      ]
    },
    {
      "cell_type": "code",
      "metadata": {
        "id": "0UwwiXiWJeic"
      },
      "source": [
        ""
      ],
      "execution_count": null,
      "outputs": []
    }
  ]
}